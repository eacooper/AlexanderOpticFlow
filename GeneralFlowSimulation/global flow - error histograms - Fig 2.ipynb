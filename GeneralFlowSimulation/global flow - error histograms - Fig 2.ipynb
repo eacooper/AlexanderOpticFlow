{
 "cells": [
  {
   "cell_type": "code",
   "execution_count": 1,
   "id": "1dc4e806",
   "metadata": {},
   "outputs": [],
   "source": [
    "import numpy as np\n",
    "import matplotlib\n",
    "from matplotlib import pyplot as plt\n",
    "from matplotlib import colors\n",
    "from matplotlib import ticker\n",
    "from scipy.stats import norm\n",
    "import os"
   ]
  },
  {
   "cell_type": "code",
   "execution_count": 2,
   "id": "5b5542d6",
   "metadata": {},
   "outputs": [],
   "source": [
    "# make grid of azimuth (theta) and elevation (alpha) coordinates\n",
    "res = 20\n",
    "    \n",
    "# full res lattice sampling azimuth and elevation\n",
    "theta_mat,alpha_mat = np.meshgrid(np.linspace(-np.pi,np.pi,int(res),endpoint=False),\n",
    "                                np.linspace(-np.pi/2,np.pi/2,int(res/2),endpoint=False))\n",
    "\n",
    "# flatten matrices\n",
    "thetas = theta_mat.flatten()\n",
    "alphas = alpha_mat.flatten()\n",
    "\n",
    "# remove points where alpha = -pi/2\n",
    "thetas = thetas[alphas > -np.pi/2]\n",
    "alphas = alphas[alphas > -np.pi/2]\n",
    "\n",
    "# generate masks for subsampling visual field\n",
    "\n",
    "# indices for full field sampling\n",
    "fullfield_inds = np.arange(0,np.size(thetas),2)\n",
    "\n",
    "for i in np.arange(0,90,20):\n",
    "    fullfield_inds[i:i+10] = fullfield_inds[i:i+10]+1\n"
   ]
  },
  {
   "cell_type": "code",
   "execution_count": 3,
   "id": "e86fe4e4",
   "metadata": {},
   "outputs": [
    {
     "data": {
      "text/plain": [
       "<matplotlib.collections.PathCollection at 0x127a7b220>"
      ]
     },
     "execution_count": 3,
     "metadata": {},
     "output_type": "execute_result"
    },
    {
     "data": {
      "image/png": "[encoded data removed]",
      "text/plain": [
       "<Figure size 432x288 with 1 Axes>"
      ]
     },
     "metadata": {
      "needs_background": "light"
     },
     "output_type": "display_data"
    }
   ],
   "source": [
    "# show that full field sampling is taking every other sample\n",
    "plt.scatter(thetas,alphas)\n",
    "plt.scatter(thetas[fullfield_inds],alphas[fullfield_inds],color='black')"
   ]
  },
  {
   "cell_type": "code",
   "execution_count": 4,
   "id": "716508ca",
   "metadata": {},
   "outputs": [],
   "source": [
    "# function for determining scene depth geometry\n",
    "def nearness(geometry='sphere',theta=thetas,alpha=alphas,r=1):\n",
    "    if geometry == 'sphere':\n",
    "        mu = 1/r*np.ones_like(theta)\n",
    "    elif geometry == 'floor':\n",
    "        mu = np.abs(np.sin(alpha))/r * (alpha < 0)\n",
    "    return mu\n",
    "\n",
    "# equations slightly modified (signs and axis labels changed) from\n",
    "# eqn 2.13 and following matrices in\n",
    "# http://www.cds.caltech.edu/~murray/preprints/humbert05-phd.pdf\n",
    "def tangentialflow(Vx=0,Vy=0,Vz=0,Wx=0,Wy=0,Wz=0,geometry='sphere',theta=thetas,alpha=alphas,r=1,theta0=0,alpha0=0):\n",
    "    mu = nearness(geometry=geometry,theta=theta,alpha=alpha,r=r)\n",
    "    flow_horiz = -np.sin(alpha)*np.cos(theta)*Wz + \\\n",
    "                 np.sin(alpha)*np.sin(theta)*Wx + \\\n",
    "                 -np.cos(alpha)*Wy + \\\n",
    "                 mu*(np.sin(theta)*Vz + np.cos(theta)*Vx)\n",
    "    flow_vert = np.sin(theta)*Wz + \\\n",
    "                np.cos(theta)*Wx + \\\n",
    "                mu*(np.sin(alpha)*np.cos(theta)*Vz + \\\n",
    "                          -np.sin(alpha)*np.sin(theta)*Vx + \\\n",
    "                          np.cos(alpha)*Vy)\n",
    "    return flow_horiz, flow_vert\n"
   ]
  },
  {
   "cell_type": "code",
   "execution_count": 5,
   "id": "06562237",
   "metadata": {},
   "outputs": [],
   "source": [
    "# predict velocity from flow with weighted least squares\n",
    "def getvel(flow,theta=thetas,alpha=alphas,geometry='sphere',DOFs=6,weights=0):\n",
    "    \n",
    "    # if no weights were given, assume uniform\n",
    "    if np.size(weights) == 1:\n",
    "        weights=np.ones(len(theta))\n",
    "        \n",
    "    vxtemplate = np.ndarray.flatten(np.array(tangentialflow(Vx=1,theta=theta,alpha=alpha,geometry=geometry)))\n",
    "    vytemplate = np.ndarray.flatten(np.array(tangentialflow(Vy=1,theta=theta,alpha=alpha,geometry=geometry)))\n",
    "    vztemplate = np.ndarray.flatten(np.array(tangentialflow(Vz=1,theta=theta,alpha=alpha,geometry=geometry)))\n",
    "    wxtemplate = np.ndarray.flatten(np.array(tangentialflow(Wx=1,theta=theta,alpha=alpha,geometry=geometry)))\n",
    "    wytemplate = np.ndarray.flatten(np.array(tangentialflow(Wy=1,theta=theta,alpha=alpha,geometry=geometry)))\n",
    "    wztemplate = np.ndarray.flatten(np.array(tangentialflow(Wz=1,theta=theta,alpha=alpha,geometry=geometry)))\n",
    "    \n",
    "    if DOFs == 1:\n",
    "        templates = vztemplate\n",
    "    elif DOFs == 3:\n",
    "        templates = np.stack([vxtemplate,vztemplate,wytemplate])\n",
    "    elif DOFs == 6:\n",
    "        templates = np.stack([vxtemplate,vytemplate,vztemplate,wxtemplate,wytemplate,wztemplate])\n",
    "    \n",
    "    \n",
    "    # weight template and sample\n",
    "    template = np.transpose(templates*np.tile(weights,[DOFs,2]))\n",
    "    sample = np.transpose(np.ndarray.flatten(np.array(flow))*np.tile(weights,[1,2]))\n",
    "    \n",
    "    # solve for self motion\n",
    "    pred = np.zeros([6,1])\n",
    "    pred_DOF,_,_,_ = np.linalg.lstsq(template,sample,rcond=-1)\n",
    "    \n",
    "    if DOFs == 1:\n",
    "        pred[2] = pred_DOF\n",
    "    elif DOFs == 3:\n",
    "        pred[0] = pred_DOF[0]  \n",
    "        pred[2] = pred_DOF[1]  \n",
    "        pred[4] = pred_DOF[2]  \n",
    "    elif DOFs == 6:\n",
    "        pred = pred_DOF\n",
    "    return np.squeeze(pred)\n",
    "\n",
    "\n",
    "def anglediff(a,b,deg=True):\n",
    "    if deg:\n",
    "        return np.arctan2(np.sin((a-b)*np.pi/180),np.cos((a-b)*np.pi/180))*180/np.pi\n",
    "    else:\n",
    "        return np.arctan2(np.sin(a-b),np.cos(a-b))"
   ]
  },
  {
   "cell_type": "code",
   "execution_count": 6,
   "id": "4dc6f4e1",
   "metadata": {},
   "outputs": [],
   "source": [
    "# for a given set of indices (x), runs a batch of self motion trajectories and calculates the errors\n",
    "# x is a set of indices to use to subset theta/alpha\n",
    "def error_calc(x,trials=10,noiselevel=0.25,geometry='sphere',theta=thetas,alpha=alphas,DOFs=6,plotit=False,spatvarnoise=False,weights=0):\n",
    "\n",
    "    preds = np.nan*np.ones([trials,6])\n",
    "    gt = np.nan*np.ones([trials,6])\n",
    "    \n",
    "    # subset\n",
    "    this_subset_thetas = thetas[x]\n",
    "    this_subset_alphas = alphas[x]\n",
    "\n",
    "    for i in range(trials): \n",
    "        Vx,Vy,Vz,Wx,Wy,Wz = np.random.rand(6) # generate random behavior\n",
    "        \n",
    "        # zero out irrelevant DOFs\n",
    "        if DOFs == 3:\n",
    "            Vy = Wx = Wz = 0\n",
    "        elif DOFs == 1:\n",
    "            Vx = Vy = Wx = Wy = Wz = 0\n",
    "            \n",
    "        flow = tangentialflow(geometry=geometry,theta=this_subset_thetas,alpha=this_subset_alphas,Vx=Vx,Vy=Vy,Vz=Vz,Wx=Wx,Wy=Wy,Wz=Wz)\n",
    "        _,h = np.shape(flow)\n",
    "        noise = noiselevel*np.random.randn(2*h)\n",
    "        #noise = np.reshape(noise,[2,h])\n",
    "        #flow = flow + noise\n",
    "        noise = np.reshape(noise,[2,h])\n",
    "        if spatvarnoise:\n",
    "            noise = noise*((np.tile(-this_subset_alphas,[2,1])+np.pi/2)/(np.pi))\n",
    "        flow = flow + noise\n",
    "        \n",
    "        # get error\n",
    "        gt[i,:] = [Vx,Vy,Vz,Wx,Wy,Wz]\n",
    "        preds[i,:] = getvel(flow,geometry=geometry,theta=this_subset_thetas,alpha=this_subset_alphas,DOFs=DOFs,weights=weights)\n",
    "    \n",
    "    # return average error (in meters or radians)\n",
    "    errs = np.median(np.abs(preds-gt),0)\n",
    "    err_Vz = errs[2]\n",
    "    \n",
    "    # heading error (in radians)\n",
    "    headinggt = np.arctan2(gt[...,2],gt[...,0])\n",
    "    headingpred = np.arctan2(preds[...,2],preds[...,0])\n",
    "    headingerr = np.median(np.abs(anglediff(headingpred,headinggt,deg=False)))\n",
    "    \n",
    "    errs = np.append(errs,headingerr)\n",
    "    \n",
    "    #return err_Vz\n",
    "    return errs"
   ]
  },
  {
   "cell_type": "code",
   "execution_count": 7,
   "id": "a1fde18c",
   "metadata": {},
   "outputs": [],
   "source": [
    "# run sim a bunch of times\n",
    "def error_distribution(x,repeats=10,trials=10,noiselevel=0.25,geometry='sphere',theta=thetas,alpha=alphas,DOFs=6,plotit=False,spatvarnoise=False,weights=0):\n",
    "\n",
    "    # initialize results        \n",
    "    all_err         = np.zeros([repeats,7])\n",
    "\n",
    "    for i in range(repeats):\n",
    "\n",
    "        errs = error_calc(x,trials=trials,noiselevel=noiselevel,geometry=geometry,theta=theta,alpha=alpha,DOFs=DOFs,spatvarnoise=spatvarnoise,weights=weights)\n",
    "\n",
    "        all_err[i,:] = errs\n",
    "    return all_err\n"
   ]
  },
  {
   "cell_type": "code",
   "execution_count": 8,
   "id": "47ba0b3b",
   "metadata": {},
   "outputs": [],
   "source": [
    "# function that creates median split masks and calculated error distribution for best, worst, and full field mask\n",
    "def prep_histograms(trials=10,repeats=10,DOFs=6,geometry='sphere',spatvarnoise=False,component='Vz'):\n",
    "    \n",
    "    \n",
    "    # load data file with median error at each location\n",
    "    if spatvarnoise:\n",
    "        data = np.load(f'./global_median_error_files/global_67pctsparse_0.25noise_spatiallyvaryingnoise_{geometry}_{DOFs}DOFs_10000batchsize_median_errors.npz')\n",
    "    else:\n",
    "        data = np.load(f'./global_median_error_files/global_67pctsparse_0.25noise_{geometry}_{DOFs}DOFs_10000batchsize_median_errors.npz')\n",
    "\n",
    "        \n",
    "    if component == 'heading':\n",
    "        median_error = data['median_error_heading']\n",
    "    elif component == 'Vz':\n",
    "        median_error = data['median_error_Vz']\n",
    "    else:\n",
    "        print('invalid component')\n",
    "    \n",
    "    # subset points above and below median error for Vz masks\n",
    "    best = median_error < np.median(median_error)\n",
    "    best_inds = np.squeeze(np.where(best == True))\n",
    "    worst_inds = np.squeeze(np.where(best == False))\n",
    "\n",
    "    print('total nsamples =', np.size(thetas))\n",
    "    print('full field nsamples =', np.size(fullfield_inds))\n",
    "    print('best nsamples =', np.size(best_inds))\n",
    "    print('worst nsamples =', np.size(worst_inds))\n",
    "\n",
    "    inds_all = [fullfield_inds,best_inds,worst_inds]\n",
    "    thetatitles = ['fullfield','best','worst']\n",
    "    veltitles = ['Vx','Vy','Vz','Wx','Wy','Wz']\n",
    "    \n",
    "    \n",
    "    # visualize mask samples - Vz\n",
    "\n",
    "    thetas_ff = thetas.copy()\n",
    "    thetas_ff = thetas[fullfield_inds]\n",
    "    alphas_ff = alphas.copy()\n",
    "    alphas_ff = alphas[fullfield_inds]\n",
    "\n",
    "    plt.figure(figsize=(10,5))\n",
    "    ax = plt.axes()\n",
    "    plt.axis('equal')\n",
    "    plt.scatter(np.append(thetas_ff,-thetas_ff[thetas_ff<-3]),np.append(alphas_ff,alphas_ff[thetas_ff<-3]),color='black')\n",
    "    ax.set_box_aspect(1/2)\n",
    "    plt.xlim(-np.pi,np.pi)\n",
    "    plt.ylim(-np.pi/2,np.pi/2)\n",
    "    ax.axes.xaxis.set_visible(False)\n",
    "    ax.axes.yaxis.set_visible(False)\n",
    "\n",
    "    thetas_best = thetas.copy()\n",
    "    thetas_best = thetas[best_inds]\n",
    "    alphas_best = alphas.copy()\n",
    "    alphas_best = alphas[best_inds]\n",
    "\n",
    "    plt.figure(figsize=(10,5))\n",
    "    ax = plt.axes()\n",
    "    plt.axis('equal')\n",
    "    plt.scatter(np.append(thetas_best,-thetas_best[thetas_best<-3]),np.append(alphas_best,alphas_best[thetas_best<-3]),color='green')\n",
    "    ax.set_box_aspect(1/2)\n",
    "    plt.xlim(-np.pi,np.pi)\n",
    "    plt.ylim(-np.pi/2,np.pi/2)\n",
    "    ax.axes.xaxis.set_visible(False)\n",
    "    ax.axes.yaxis.set_visible(False)\n",
    "\n",
    "    if spatvarnoise:\n",
    "        plt.savefig(f'./global_plots/final_Fig2_{DOFs}DOF_{geometry}_best_sampling_{component}_spatiallyvaryingnoise.png', format='png',dpi=300)\n",
    "    else:\n",
    "        plt.savefig(f'./global_plots/final_Fig2_{DOFs}DOF_{geometry}_best_sampling_{component}.png', format='png',dpi=300)\n",
    "\n",
    "    thetas_worst = thetas.copy()\n",
    "    thetas_worst = thetas[worst_inds]\n",
    "    alphas_worst = alphas.copy()\n",
    "    alphas_worst = alphas[worst_inds]\n",
    "\n",
    "    plt.figure(figsize=(10,5))\n",
    "    ax = plt.axes()\n",
    "    plt.axis('equal')\n",
    "    plt.scatter(np.append(thetas_worst,-thetas_worst[thetas_worst<-3]),np.append(alphas_worst,alphas_worst[thetas_worst<-3]),color='orange')\n",
    "    ax.set_box_aspect(1/2)\n",
    "    plt.xlim(-np.pi,np.pi)\n",
    "    plt.ylim(-np.pi/2,np.pi/2)\n",
    "    ax.axes.xaxis.set_visible(False)\n",
    "    ax.axes.yaxis.set_visible(False)\n",
    "\n",
    "    if spatvarnoise:\n",
    "        plt.savefig(f'./global_plots/final_Fig2_{DOFs}DOF_{geometry}_worst_sampling_{component}_spatiallyvaryingnoise.png', format='png',dpi=300)\n",
    "    else:\n",
    "        plt.savefig(f'./global_plots/final_Fig2_{DOFs}DOF_{geometry}_worst_sampling_{component}.png', format='png',dpi=300)\n",
    "    \n",
    "    \n",
    "    # run simulations\n",
    "    inds = fullfield_inds\n",
    "    errors_fullfield = error_distribution(inds,repeats=repeats,trials=trials,noiselevel=0.25,geometry=geometry,theta=thetas,alpha=alphas,DOFs=DOFs,spatvarnoise=spatvarnoise)\n",
    "    errors_fullfield[:,0:3] = 100*errors_fullfield[:,0:3] # convert to cm\n",
    "    errors_fullfield[:,3:] = (180/np.pi)*errors_fullfield[:,3:] # convert to deg\n",
    "    \n",
    "    inds = best_inds\n",
    "    errors_best = error_distribution(inds,repeats=repeats,trials=trials,noiselevel=0.25,geometry=geometry,theta=thetas,alpha=alphas,DOFs=DOFs,spatvarnoise=spatvarnoise)\n",
    "    errors_best[:,0:3] = 100*errors_best[:,0:3] # convert to cm\n",
    "    errors_best[:,3:] = (180/np.pi)*errors_best[:,3:] # convert to deg\n",
    "\n",
    "    inds = worst_inds\n",
    "    errors_worst = error_distribution(inds,repeats=repeats,trials=trials,noiselevel=0.25,geometry=geometry,theta=thetas,alpha=alphas,DOFs=DOFs,spatvarnoise=spatvarnoise)\n",
    "    errors_worst[:,0:3] = 100*errors_worst[:,0:3] # convert to cm\n",
    "    errors_worst[:,3:] = (180/np.pi)*errors_worst[:,3:] # convert to deg\n",
    "\n",
    "    if spatvarnoise:\n",
    "        np.savez(f'./global_median_error_files/histogram_median_errors_Fig2_{DOFs}DOF_{geometry}_{component}_spatiallyvaryingnoise.npz',errors_fullfield=errors_fullfield,errors_best=errors_best,errors_worst=errors_worst)\n",
    "    else:\n",
    "        np.savez(f'./global_median_error_files/histogram_median_errors_Fig2_{DOFs}DOF_{geometry}_{component}.npz',errors_fullfield=errors_fullfield,errors_best=errors_best,errors_worst=errors_worst)\n"
   ]
  },
  {
   "cell_type": "code",
   "execution_count": 9,
   "id": "e3cd16a9",
   "metadata": {},
   "outputs": [
    {
     "name": "stdout",
     "output_type": "stream",
     "text": [
      "1DOF sphere\n",
      "total nsamples = 180\n",
      "full field nsamples = 90\n",
      "best nsamples = 90\n",
      "worst nsamples = 90\n",
      "3DOF sphere\n",
      "total nsamples = 180\n",
      "full field nsamples = 90\n",
      "best nsamples = 90\n",
      "worst nsamples = 90\n",
      "3DOF sphere - spatially varying noise\n",
      "total nsamples = 180\n",
      "full field nsamples = 90\n",
      "best nsamples = 90\n",
      "worst nsamples = 90\n",
      "3DOF floor - Vz\n",
      "total nsamples = 180\n",
      "full field nsamples = 90\n",
      "best nsamples = 90\n",
      "worst nsamples = 90\n",
      "3DOF floor - Heading\n",
      "total nsamples = 180\n",
      "full field nsamples = 90\n",
      "best nsamples = 90\n",
      "worst nsamples = 90\n"
     ]
    },
    {
     "data": {
      "image/png": "[encoded data removed]",
      "text/plain": [
       "<Figure size 720x360 with 1 Axes>"
      ]
     },
     "metadata": {
      "needs_background": "light"
     },
     "output_type": "display_data"
    },
    {
     "data": {
      "image/png": "[encoded data removed]",
      "text/plain": [
       "<Figure size 720x360 with 1 Axes>"
      ]
     },
     "metadata": {
      "needs_background": "light"
     },
     "output_type": "display_data"
    },
    {
     "data": {
      "image/png": "[encoded data removed]",
      "text/plain": [
       "<Figure size 720x360 with 1 Axes>"
      ]
     },
     "metadata": {
      "needs_background": "light"
     },
     "output_type": "display_data"
    },
    {
     "data": {
      "image/png": "[encoded data removed]",
      "text/plain": [
       "<Figure size 720x360 with 1 Axes>"
      ]
     },
     "metadata": {
      "needs_background": "light"
     },
     "output_type": "display_data"
    },
    {
     "data": {
      "image/png": "[encoded data removed]",
      "text/plain": [
       "<Figure size 720x360 with 1 Axes>"
      ]
     },
     "metadata": {
      "needs_background": "light"
     },
     "output_type": "display_data"
    },
    {
     "data": {
      "image/png": "[encoded data removed]",
      "text/plain": [
       "<Figure size 720x360 with 1 Axes>"
      ]
     },
     "metadata": {
      "needs_background": "light"
     },
     "output_type": "display_data"
    },
    {
     "data": {
      "image/png": "[encoded data removed]",
      "text/plain": [
       "<Figure size 720x360 with 1 Axes>"
      ]
     },
     "metadata": {
      "needs_background": "light"
     },
     "output_type": "display_data"
    },
    {
     "data": {
      "image/png": "[encoded data removed]",
      "text/plain": [
       "<Figure size 720x360 with 1 Axes>"
      ]
     },
     "metadata": {
      "needs_background": "light"
     },
     "output_type": "display_data"
    },
    {
     "data": {
      "image/png": "[encoded data removed]",
      "text/plain": [
       "<Figure size 720x360 with 1 Axes>"
      ]
     },
     "metadata": {
      "needs_background": "light"
     },
     "output_type": "display_data"
    },
    {
     "data": {
      "image/png": "[encoded data removed]",
      "text/plain": [
       "<Figure size 720x360 with 1 Axes>"
      ]
     },
     "metadata": {
      "needs_background": "light"
     },
     "output_type": "display_data"
    },
    {
     "data": {
      "image/png": "[encoded data removed]",
      "text/plain": [
       "<Figure size 720x360 with 1 Axes>"
      ]
     },
     "metadata": {
      "needs_background": "light"
     },
     "output_type": "display_data"
    },
    {
     "data": {
      "image/png": "[encoded data removed]",
      "text/plain": [
       "<Figure size 720x360 with 1 Axes>"
      ]
     },
     "metadata": {
      "needs_background": "light"
     },
     "output_type": "display_data"
    },
    {
     "data": {
      "image/png": "[encoded data removed]",
      "text/plain": [
       "<Figure size 720x360 with 1 Axes>"
      ]
     },
     "metadata": {
      "needs_background": "light"
     },
     "output_type": "display_data"
    },
    {
     "data": {
      "image/png": "[encoded data removed]",
      "text/plain": [
       "<Figure size 720x360 with 1 Axes>"
      ]
     },
     "metadata": {
      "needs_background": "light"
     },
     "output_type": "display_data"
    },
    {
     "data": {
      "image/png": "[encoded data removed]",
      "text/plain": [
       "<Figure size 720x360 with 1 Axes>"
      ]
     },
     "metadata": {
      "needs_background": "light"
     },
     "output_type": "display_data"
    }
   ],
   "source": [
    "trials=1000\n",
    "repeats=1000\n",
    "\n",
    "#trials=1000\n",
    "#repeats=1000\n",
    "\n",
    "# 1 DOF sphere\n",
    "geometry = 'sphere'\n",
    "DOFs = 1\n",
    "spatvarnoise = False\n",
    "component = 'Vz'\n",
    "\n",
    "print('1DOF sphere')\n",
    "prep_histograms(trials=trials,repeats=repeats,DOFs=DOFs,geometry=geometry,spatvarnoise=spatvarnoise,component=component)\n",
    "\n",
    "\n",
    "# 3 DOF sphere\n",
    "geometry = 'sphere'\n",
    "DOFs = 3\n",
    "spatvarnoise = False\n",
    "component = 'Vz'\n",
    "\n",
    "print('3DOF sphere')\n",
    "prep_histograms(trials=trials,repeats=repeats,DOFs=DOFs,geometry=geometry,spatvarnoise=spatvarnoise,component=component)\n",
    "\n",
    "\n",
    "# 3 DOF sphere - spatially varying noise\n",
    "geometry = 'sphere'\n",
    "DOFs = 3\n",
    "spatvarnoise = True\n",
    "component = 'Vz'\n",
    "\n",
    "print('3DOF sphere - spatially varying noise')\n",
    "prep_histograms(trials=trials,repeats=repeats,DOFs=DOFs,geometry=geometry,spatvarnoise=spatvarnoise,component=component)\n",
    "\n",
    "\n",
    "# 3 DOF floor\n",
    "geometry = 'floor'\n",
    "DOFs = 3\n",
    "spatvarnoise = False\n",
    "component = 'Vz'\n",
    "\n",
    "print('3DOF floor - Vz')\n",
    "prep_histograms(trials=trials,repeats=repeats,DOFs=DOFs,geometry=geometry,spatvarnoise=spatvarnoise,component=component)\n",
    "\n",
    "component = 'heading'\n",
    "print('3DOF floor - Heading')\n",
    "prep_histograms(trials=trials,repeats=repeats,DOFs=DOFs,geometry=geometry,spatvarnoise=spatvarnoise,component=component)\n"
   ]
  },
  {
   "cell_type": "code",
   "execution_count": null,
   "id": "7e241592",
   "metadata": {},
   "outputs": [],
   "source": [
    "# 3 DOF sphere - spatially varying noise\n",
    "geometry = 'sphere'\n",
    "DOFs = 1\n",
    "spatvarnoise = False\n",
    "component = 'Vz'\n",
    "\n",
    "print('3DOF sphere - spatially varying noise')\n",
    "prep_histograms(trials=trials,repeats=repeats,DOFs=DOFs,geometry=geometry,spatvarnoise=spatvarnoise,component=component)\n"
   ]
  },
  {
   "cell_type": "code",
   "execution_count": 87,
   "id": "67bf927b",
   "metadata": {},
   "outputs": [],
   "source": [
    "# plot histograms\n",
    "def plot_histograms(DOFs=6,geometry='sphere',spatvarnoise=False,component='Vz'):\n",
    "    \n",
    "    if spatvarnoise:\n",
    "        data = np.load(f'./global_median_error_files/histogram_median_errors_Fig2_{DOFs}DOF_{geometry}_{component}_spatiallyvaryingnoise.npz')\n",
    "    else:\n",
    "        data = np.load(f'./global_median_error_files/histogram_median_errors_Fig2_{DOFs}DOF_{geometry}_{component}.npz')\n",
    "    \n",
    "    errors_fullfield = data['errors_fullfield']\n",
    "    errors_best = data['errors_best']\n",
    "    errors_worst = data['errors_worst']\n",
    "\n",
    "    font = {'family' : 'arial',\n",
    "             'size'   : 6}\n",
    "\n",
    "    matplotlib.rc('font', **font)\n",
    "\n",
    "    if component == 'Vz':\n",
    "        comp_ind = 2\n",
    "    elif component == 'heading':\n",
    "        comp_ind = 6\n",
    "        \n",
    "    # bounds\n",
    "    print('best min',np.min(errors_best[:,comp_ind]))\n",
    "    print('worst max',np.max(errors_worst[:,comp_ind]))\n",
    "\n",
    "    # set sensible ranges\n",
    "    if DOFs == 1:\n",
    "        xmin = 1.5\n",
    "        xmax = 3\n",
    "    elif DOFs == 3:\n",
    "        xmin = 0.5\n",
    "        xmax = 2\n",
    "        \n",
    "        if spatvarnoise==False:\n",
    "            xmin = 1.5\n",
    "            xmax = 3\n",
    "            \n",
    "        if geometry=='floor':\n",
    "              \n",
    "            if component == 'heading':\n",
    "                xmin = 0\n",
    "                xmax = 20\n",
    "            else:\n",
    "                xmin = 0\n",
    "                xmax = 40\n",
    "        \n",
    "    x = np.linspace(xmin, xmax, 100)\n",
    "\n",
    "    plt.figure(figsize=(.8,.8))\n",
    "\n",
    "\n",
    "    plt.hist(errors_fullfield[:,comp_ind],bins=x,label='full-field',alpha=0.5,density=True,color='k')\n",
    "    mu_fullfield, std_fullfield = norm.fit(errors_fullfield[:,comp_ind])\n",
    "    p = norm.pdf(x, mu_fullfield, std_fullfield)\n",
    "    plt.plot(x, p, 'k', linewidth=2)\n",
    "    print('full field mu = ',mu_fullfield,' std = ',std_fullfield)\n",
    "\n",
    "    plt.hist(errors_worst[:,comp_ind],bins=x,label='worst',alpha=0.5,density=True,color='orange')\n",
    "    mu_worst, std_worst = norm.fit(errors_worst[:,comp_ind])\n",
    "    p = norm.pdf(x, mu_worst, std_worst)\n",
    "    plt.plot(x, p, 'orange', linewidth=2)\n",
    "    print('worst mu = ',mu_worst,' std = ',std_worst)\n",
    "\n",
    "    plt.hist(errors_best[:,comp_ind],bins=x,label='best',alpha=0.5,density=True,color='green')\n",
    "    mu_best, std_best = norm.fit(errors_best[:,comp_ind])\n",
    "    p = norm.pdf(x, mu_best, std_best)\n",
    "    plt.plot(x, p, 'green', linewidth=2)\n",
    "    print('best mu = ',mu_best,' std = ',std_best)\n",
    "\n",
    "    if component == 'Vz':\n",
    "        plt.xlabel('median error (cm/s)')\n",
    "    elif component == 'heading':\n",
    "        plt.xlabel('median error (deg)')\n",
    "\n",
    "    plt.yticks([])\n",
    "    \n",
    "    plt.xlim(xmin,xmax)\n",
    "    \n",
    "    if DOFs == 1:\n",
    "        plt.xticks([1.5,2,2.5,3])\n",
    "    elif DOFs == 3:\n",
    "        plt.xticks([0.5,1,1.5,2])\n",
    "        \n",
    "        if spatvarnoise == False:\n",
    "            plt.xticks([1.5,2,2.5,3])\n",
    "\n",
    "        if geometry=='floor':\n",
    "            \n",
    "            if component == 'heading':\n",
    "                plt.xticks([0,5,10,15,20])\n",
    "            else:\n",
    "                plt.xticks([0,10,20,30,40])\n",
    "            \n",
    "    # dprimes\n",
    "    print('effect size (D) anti to full',(mu_worst-mu_fullfield)/np.sqrt((np.std(errors_worst[:,comp_ind], ddof=1) ** 2 + np.std(errors_fullfield[:,comp_ind], ddof=1) ** 2) / 2.0) )\n",
    "    print('effect size (D) best to full',(mu_best-mu_fullfield)/np.sqrt((np.std(errors_best[:,comp_ind], ddof=1) ** 2 + np.std(errors_fullfield[:,comp_ind], ddof=1) ** 2) / 2.0) )\n",
    "\n",
    "    if spatvarnoise:\n",
    "        plt.savefig(f'./final_plots/final_fig2_global_histogram_{component}_{geometry}_{DOFs}DOF_spatiallyvaryingnoise.png', format='png',dpi=300)\n",
    "        plt.savefig(f'./final_plots/final_fig2_global_histogram_{component}_{geometry}_{DOFs}DOF_spatiallyvaryingnoise.eps', format='eps',dpi=300)\n",
    "      \n",
    "    else:\n",
    "        plt.savefig(f'./final_plots/final_fig2_global_histogram_{component}_{geometry}_{DOFs}DOF.png', format='png',dpi=300)\n",
    "        plt.savefig(f'./final_plots/final_fig2_global_histogram_{component}_{geometry}_{DOFs}DOF.eps', format='eps',dpi=300)\n"
   ]
  },
  {
   "cell_type": "code",
   "execution_count": 88,
   "id": "aa9a64cb",
   "metadata": {},
   "outputs": [
    {
     "name": "stderr",
     "output_type": "stream",
     "text": [
      "The PostScript backend does not support transparency; partially transparent artists will be rendered opaque.\n"
     ]
    },
    {
     "name": "stdout",
     "output_type": "stream",
     "text": [
      "best min 1.9607846940127223\n",
      "worst max 19.87203730065823\n",
      "full field mu =  3.175796112576016  std =  0.124679984358476\n",
      "worst mu =  17.7496889062306  std =  0.7444342848626557\n",
      "best mu =  2.2696705053496244  std =  0.08854284500842355\n",
      "effect size (D) anti to full 27.292273824393927\n",
      "effect size (D) best to full -8.37564135140775\n"
     ]
    },
    {
     "data": {
      "image/png": "[encoded data removed]",
      "text/plain": [
       "<Figure size 57.6x57.6 with 1 Axes>"
      ]
     },
     "metadata": {
      "needs_background": "light"
     },
     "output_type": "display_data"
    }
   ],
   "source": [
    "# 1 DOF sphere\n",
    "geometry = 'floor'\n",
    "DOFs = 3\n",
    "spatvarnoise = False\n",
    "component = 'heading'\n",
    "\n",
    "plot_histograms(DOFs=DOFs,geometry=geometry,spatvarnoise=spatvarnoise,component=component)\n",
    "\n"
   ]
  },
  {
   "cell_type": "code",
   "execution_count": null,
   "id": "cf4be36e",
   "metadata": {},
   "outputs": [],
   "source": [
    "errors_fullfield = data['errors_fullfield']\n",
    "errors_best = data['errors_best']\n",
    "errors_worst = data['errors_worst']"
   ]
  },
  {
   "cell_type": "code",
   "execution_count": null,
   "id": "69054367",
   "metadata": {},
   "outputs": [],
   "source": [
    "data = np.load(f'./global_median_error_files/histogram_median_errors_Fig2_3DOF_sphere_Vz_spatiallyvaryingnoise.npz')\n"
   ]
  },
  {
   "cell_type": "code",
   "execution_count": null,
   "id": "fb0456de",
   "metadata": {},
   "outputs": [],
   "source": [
    "plt.hist(errors_fullfield[:,2])"
   ]
  },
  {
   "cell_type": "code",
   "execution_count": 22,
   "id": "fde12137",
   "metadata": {},
   "outputs": [
    {
     "name": "stdout",
     "output_type": "stream",
     "text": [
      "1DOF sphere\n",
      "best min 1.5733313970092588\n",
      "worst max 2.8112253900191204\n",
      "full field mu =  2.093030651270936  std =  0.07781938965942568\n",
      "worst mu =  2.518439223455917  std =  0.09097331493804767\n",
      "best mu =  1.825491324767336  std =  0.06679235860568523\n",
      "effect size (D) anti to full 5.022854030815416\n",
      "effect size (D) best to full -3.687549453982808\n"
     ]
    },
    {
     "name": "stderr",
     "output_type": "stream",
     "text": [
      "The PostScript backend does not support transparency; partially transparent artists will be rendered opaque.\n",
      "The PostScript backend does not support transparency; partially transparent artists will be rendered opaque.\n"
     ]
    },
    {
     "name": "stdout",
     "output_type": "stream",
     "text": [
      "3DOF sphere\n",
      "best min 1.5943984575138737\n",
      "worst max 2.808077838560319\n",
      "full field mu =  2.0978858260219204  std =  0.07923184141107874\n",
      "worst mu =  2.5163269844126206  std =  0.09231233026617239\n",
      "best mu =  1.8317978816148832  std =  0.06571642164150297\n",
      "effect size (D) anti to full 4.8619699404882315\n",
      "effect size (D) best to full -3.6538031531727393\n"
     ]
    },
    {
     "name": "stderr",
     "output_type": "stream",
     "text": [
      "The PostScript backend does not support transparency; partially transparent artists will be rendered opaque.\n"
     ]
    },
    {
     "name": "stdout",
     "output_type": "stream",
     "text": [
      "3DOF sphere - spatially varying noise\n",
      "best min 0.5915728554537647\n",
      "worst max 1.9500108065488575\n",
      "full field mu =  1.2042165084581873  std =  0.04319715417204985\n",
      "worst mu =  1.7650409168296364  std =  0.06433715202166157\n",
      "best mu =  0.6677684625230537  std =  0.02425296157926683\n",
      "effect size (D) anti to full 10.229599323072929\n",
      "effect size (D) best to full -15.306306637916853\n"
     ]
    },
    {
     "name": "stderr",
     "output_type": "stream",
     "text": [
      "The PostScript backend does not support transparency; partially transparent artists will be rendered opaque.\n"
     ]
    },
    {
     "name": "stdout",
     "output_type": "stream",
     "text": [
      "3DOF floor - Vz\n",
      "best min 2.5438158038443155\n",
      "worst max 31.358609758519773\n",
      "full field mu =  4.10287724780062  std =  0.15421409559666294\n",
      "worst mu =  27.636799554605105  std =  1.0317247137013827\n",
      "best mu =  2.9200213402394697  std =  0.11208417719700704\n",
      "effect size (D) anti to full 31.888209850875505\n",
      "effect size (D) best to full -8.770172678756209\n",
      "3DOF floor - Heading\n",
      "best min 1.9607846940127223\n",
      "worst max 19.87203730065823\n",
      "full field mu =  3.175796112576016  std =  0.124679984358476\n",
      "worst mu =  17.7496889062306  std =  0.7444342848626557\n",
      "best mu =  2.2696705053496244  std =  0.08854284500842355\n",
      "effect size (D) anti to full 27.292273824393927\n",
      "effect size (D) best to full -8.37564135140775\n"
     ]
    },
    {
     "name": "stderr",
     "output_type": "stream",
     "text": [
      "The PostScript backend does not support transparency; partially transparent artists will be rendered opaque.\n"
     ]
    },
    {
     "data": {
      "image/png": "[encoded data removed]",
      "text/plain": [
       "<Figure size 57.6x57.6 with 1 Axes>"
      ]
     },
     "metadata": {
      "needs_background": "light"
     },
     "output_type": "display_data"
    },
    {
     "data": {
      "image/png": "[encoded data removed]",
      "text/plain": [
       "<Figure size 57.6x57.6 with 1 Axes>"
      ]
     },
     "metadata": {
      "needs_background": "light"
     },
     "output_type": "display_data"
    },
    {
     "data": {
      "image/png": "[encoded data removed]",
      "text/plain": [
       "<Figure size 57.6x57.6 with 1 Axes>"
      ]
     },
     "metadata": {
      "needs_background": "light"
     },
     "output_type": "display_data"
    },
    {
     "data": {
      "image/png": "[encoded data removed]",
      "text/plain": [
       "<Figure size 57.6x57.6 with 1 Axes>"
      ]
     },
     "metadata": {
      "needs_background": "light"
     },
     "output_type": "display_data"
    },
    {
     "data": {
      "image/png": "[encoded data removed]",
      "text/plain": [
       "<Figure size 57.6x57.6 with 1 Axes>"
      ]
     },
     "metadata": {
      "needs_background": "light"
     },
     "output_type": "display_data"
    }
   ],
   "source": [
    "# 1 DOF sphere\n",
    "geometry = 'sphere'\n",
    "DOFs = 1\n",
    "spatvarnoise = False\n",
    "component = 'Vz'\n",
    "\n",
    "print('1DOF sphere')\n",
    "plot_histograms(DOFs=DOFs,geometry=geometry,spatvarnoise=spatvarnoise,component=component)\n",
    "\n",
    "\n",
    "# 3 DOF sphere\n",
    "geometry = 'sphere'\n",
    "DOFs = 3\n",
    "spatvarnoise = False\n",
    "component = 'Vz'\n",
    "\n",
    "print('3DOF sphere')\n",
    "plot_histograms(DOFs=DOFs,geometry=geometry,spatvarnoise=spatvarnoise,component=component)\n",
    "\n",
    "\n",
    "\n",
    "# 3 DOF sphere - spatially varying noise\n",
    "geometry = 'sphere'\n",
    "DOFs = 3\n",
    "spatvarnoise = True\n",
    "component = 'Vz'\n",
    "\n",
    "print('3DOF sphere - spatially varying noise')\n",
    "plot_histograms(DOFs=DOFs,geometry=geometry,spatvarnoise=spatvarnoise,component=component)\n",
    "\n",
    "\n",
    "\n",
    "# 3 DOF floor\n",
    "geometry = 'floor'\n",
    "DOFs = 3\n",
    "spatvarnoise = False\n",
    "component = 'Vz'\n",
    "\n",
    "print('3DOF floor - Vz')\n",
    "plot_histograms(DOFs=DOFs,geometry=geometry,spatvarnoise=spatvarnoise,component=component)\n",
    "\n",
    "component = 'heading'\n",
    "print('3DOF floor - Heading')\n",
    "plot_histograms(DOFs=DOFs,geometry=geometry,spatvarnoise=spatvarnoise,component=component)\n"
   ]
  },
  {
   "cell_type": "code",
   "execution_count": null,
   "id": "dd5eed1a",
   "metadata": {},
   "outputs": [],
   "source": [
    "# DEFUNCT BELOW HERE"
   ]
  },
  {
   "cell_type": "code",
   "execution_count": null,
   "id": "0c8f6f6f",
   "metadata": {},
   "outputs": [],
   "source": []
  },
  {
   "cell_type": "code",
   "execution_count": null,
   "id": "f747422b",
   "metadata": {},
   "outputs": [],
   "source": []
  },
  {
   "cell_type": "code",
   "execution_count": null,
   "id": "404fd138",
   "metadata": {},
   "outputs": [],
   "source": [
    "#Vz histograms\n",
    "\n",
    "data = np.load('./global_median_error_files/histogram_median_errors_Fig2_1DOF_sphere_Vz.npz')\n",
    "errors_fullfield = data['errors_fullfield']\n",
    "errors_best = data['errors_best']\n",
    "errors_worst = data['errors_worst']\n",
    "\n",
    "font = {'family' : 'arial',\n",
    "         'size'   : 6}\n",
    "\n",
    "matplotlib.rc('font', **font)\n",
    "\n",
    "# bounds\n",
    "print('best min',np.min(errors_worst))\n",
    "print('worst max',np.max(errors_best))\n",
    "\n",
    "xmin = np.min(errors_worst)\n",
    "xmax = np.max(errors_best)\n",
    "#xmin=1.5\n",
    "#xmax = 2.75\n",
    "x = np.linspace(xmin, xmax, 100)\n",
    "\n",
    "plt.figure(figsize=(2,1))\n",
    "\n",
    "#xmin = 0.6\n",
    "#xmax = 1.2\n",
    "#x = np.linspace(xmin, xmax, 100)\n",
    "\n",
    "plt.hist(errors_fullfield[:,2],bins=x,label='full-field',alpha=0.5,density=True,color='k')\n",
    "mu_fullfield, std_fullfield = norm.fit(errors_fullfield[:,5])\n",
    "p = norm.pdf(x, mu_fullfield, std_fullfield)\n",
    "plt.plot(x, p, 'k', linewidth=2)\n",
    "print('full field mu = ',mu_fullfield,' std = ',std_fullfield)\n",
    "\n",
    "plt.hist(errors_worst[:,2],bins=x,label='worst',alpha=0.5,density=True,color='orange')\n",
    "mu_worst, std_worst = norm.fit(errors_worst[:,5])\n",
    "p = norm.pdf(x, mu_worst, std_worst)\n",
    "plt.plot(x, p, 'orange', linewidth=2)\n",
    "print('worst mu = ',mu_worst,' std = ',std_worst)\n",
    "\n",
    "plt.hist(errors_best[:,2],bins=x,label='best',alpha=0.5,density=True,color='green')\n",
    "mu_best, std_best = norm.fit(errors_best[:,5])\n",
    "p = norm.pdf(x, mu_best, std_best)\n",
    "plt.plot(x, p, 'green', linewidth=2)\n",
    "print('best mu = ',mu_best,' std = ',std_best)\n",
    "\n",
    "#plt.legend(prop={'size': 6})\n",
    "plt.xlabel('median error (cm/s)')\n",
    "plt.ylabel('probability density')\n",
    "\n",
    "plt.yticks([])\n",
    "\n",
    "# dprimes\n",
    "print('effect size (D) anti to full',(mu_worst-mu_fullfield)/np.sqrt((np.std(errors_worst[:,5], ddof=1) ** 2 + np.std(errors_fullfield[:,5], ddof=1) ** 2) / 2.0) )\n",
    "print('effect size (D) best to full',(mu_best-mu_fullfield)/np.sqrt((np.std(errors_best[:,5], ddof=1) ** 2 + np.std(errors_fullfield[:,5], ddof=1) ** 2) / 2.0) )\n",
    "\n",
    "plt.savefig(f'./final_plots/final_fig1_global_histogram_Vz_Fig2_1DOF.png', format='png',dpi=300)\n",
    "plt.savefig(f'./final_plots/final_fig1_global_histogram_Vz_Fig2_1DOF.eps', format='eps',dpi=300)"
   ]
  },
  {
   "cell_type": "code",
   "execution_count": null,
   "id": "64cd0c19",
   "metadata": {},
   "outputs": [],
   "source": []
  },
  {
   "cell_type": "code",
   "execution_count": null,
   "id": "e777b6a1",
   "metadata": {},
   "outputs": [],
   "source": [
    "# FIGURE 2 behavior:\n",
    "\n",
    "# 1 DOF SPHERE\n",
    "\n",
    "data = np.load('./global_median_error_files/global_67pctsparse_0.25noise_sphere_1DOFs_10000batchsize_median_errors.npz')\n",
    "median_error_Vz = data['median_error_Vz']\n",
    "\n",
    "# Vz\n",
    "\n",
    "# subset points above and below median error for Vz masks\n",
    "best = median_error_Vz < np.median(median_error_Vz)\n",
    "best_inds = np.squeeze(np.where(best == True))\n",
    "worst_inds = np.squeeze(np.where(best == False))\n",
    "\n",
    "print('total nsamples =', np.size(thetas))\n",
    "print('full field nsamples =', np.size(fullfield_inds))\n",
    "print('best nsamples =', np.size(best_inds))\n",
    "print('worst nsamples =', np.size(worst_inds))\n",
    "\n",
    "inds_all = [fullfield_inds,best_inds,worst_inds]\n",
    "thetatitles = ['fullfield','best','worst']\n",
    "veltitles = ['Vx','Vy','Vz','Wx','Wy','Wz']\n"
   ]
  },
  {
   "cell_type": "code",
   "execution_count": null,
   "id": "5375cfde",
   "metadata": {},
   "outputs": [],
   "source": [
    "# visualize mask samples - Vz\n",
    "\n",
    "thetas_ff = thetas.copy()\n",
    "thetas_ff = thetas[fullfield_inds]\n",
    "alphas_ff = alphas.copy()\n",
    "alphas_ff = alphas[fullfield_inds]\n",
    "\n",
    "plt.figure(figsize=(10,5))\n",
    "ax = plt.axes()\n",
    "plt.axis('equal')\n",
    "plt.scatter(np.append(thetas_ff,-thetas_ff[thetas_ff<-3]),np.append(alphas_ff,alphas_ff[thetas_ff<-3]),color='black')\n",
    "ax.set_box_aspect(1/2)\n",
    "plt.xlim(-np.pi,np.pi)\n",
    "plt.ylim(-np.pi/2,np.pi/2)\n",
    "ax.axes.xaxis.set_visible(False)\n",
    "ax.axes.yaxis.set_visible(False)\n",
    "\n",
    "\n",
    "thetas_best = thetas.copy()\n",
    "thetas_best = thetas[best_inds]\n",
    "alphas_best = alphas.copy()\n",
    "alphas_best = alphas[best_inds]\n",
    "\n",
    "plt.figure(figsize=(10,5))\n",
    "ax = plt.axes()\n",
    "plt.axis('equal')\n",
    "plt.scatter(np.append(thetas_best,-thetas_best[thetas_best<-3]),np.append(alphas_best,alphas_best[thetas_best<-3]),color='green')\n",
    "ax.set_box_aspect(1/2)\n",
    "plt.xlim(-np.pi,np.pi)\n",
    "plt.ylim(-np.pi/2,np.pi/2)\n",
    "ax.axes.xaxis.set_visible(False)\n",
    "ax.axes.yaxis.set_visible(False)\n",
    "\n",
    "plt.savefig(f'./global_plots/final_Fig2_1DOF_sphere_best_sampling.png', format='png',dpi=300)\n",
    "\n",
    "thetas_worst = thetas.copy()\n",
    "thetas_worst = thetas[worst_inds]\n",
    "alphas_worst = alphas.copy()\n",
    "alphas_worst = alphas[worst_inds]\n",
    "\n",
    "plt.figure(figsize=(10,5))\n",
    "ax = plt.axes()\n",
    "plt.axis('equal')\n",
    "plt.scatter(np.append(thetas_worst,-thetas_worst[thetas_worst<-3]),np.append(alphas_worst,alphas_worst[thetas_worst<-3]),color='orange')\n",
    "ax.set_box_aspect(1/2)\n",
    "plt.xlim(-np.pi,np.pi)\n",
    "plt.ylim(-np.pi/2,np.pi/2)\n",
    "ax.axes.xaxis.set_visible(False)\n",
    "ax.axes.yaxis.set_visible(False)\n",
    "\n",
    "plt.savefig(f'./global_plots/final_Fig2_1DOF_sphere_worst_sampling.png', format='png',dpi=300)\n",
    "\n",
    "\n"
   ]
  },
  {
   "cell_type": "code",
   "execution_count": null,
   "id": "49b8b86b",
   "metadata": {},
   "outputs": [],
   "source": [
    "# run simulations and calculate distribution of errors - Vz\n",
    "\n",
    "trials=1000\n",
    "repeats=1000\n",
    "\n",
    "#trials=1000\n",
    "#repeats=1000\n",
    "\n",
    "geometry = 'sphere'\n",
    "DOFs = 1\n",
    "spatvarnoise = False\n",
    "\n",
    "inds = fullfield_inds\n",
    "errors_fullfield = error_distribution(inds,repeats=repeats,trials=trials,noiselevel=0.25,geometry=geometry,theta=thetas,alpha=alphas,DOFs=DOFs,spatvarnoise=spatvarnoise)\n",
    "errors_fullfield = 100*errors_fullfield # convert to cm\n",
    "\n",
    "inds = best_inds\n",
    "errors_best = error_distribution(inds,repeats=repeats,trials=trials,noiselevel=0.25,geometry=geometry,theta=thetas,alpha=alphas,DOFs=DOFs,spatvarnoise=spatvarnoise)\n",
    "errors_best = 100*errors_best # convert to cm\n",
    "\n",
    "inds = worst_inds\n",
    "errors_worst = error_distribution(inds,repeats=repeats,trials=trials,noiselevel=0.25,geometry=geometry,theta=thetas,alpha=alphas,DOFs=DOFs,spatvarnoise=spatvarnoise)\n",
    "errors_worst = 100*errors_worst # convert to cm\n",
    "\n",
    "np.savez('./global_median_error_files/histogram_median_errors_Fig2_1DOF_sphere.npz',errors_fullfield=errors_fullfield,errors_best=errors_best,errors_worst=errors_worst)\n"
   ]
  },
  {
   "cell_type": "code",
   "execution_count": null,
   "id": "2052a7d3",
   "metadata": {},
   "outputs": [],
   "source": [
    "#Vz histograms\n",
    "\n",
    "data = np.load('./global_median_error_files/histogram_median_errors_Fig2_1DOF_sphere.npz')\n",
    "errors_fullfield = data['errors_fullfield']\n",
    "errors_best = data['errors_best']\n",
    "errors_worst = data['errors_worst']\n",
    "\n",
    "font = {'family' : 'arial',\n",
    "         'size'   : 6}\n",
    "\n",
    "matplotlib.rc('font', **font)\n",
    "\n",
    "# bounds\n",
    "print('best min',np.min(errors_worst))\n",
    "print('worst max',np.max(errors_best))\n",
    "\n",
    "xmin = np.min(errors_worst)\n",
    "xmax = np.max(errors_best)\n",
    "x = np.linspace(xmin, xmax, 100)\n",
    "\n",
    "plt.figure(figsize=(2,1))\n",
    "\n",
    "plt.hist(errors_fullfield[:,2],bins=x,label='full-field',alpha=0.5,density=True,color='k')\n",
    "mu_fullfield, std_fullfield = norm.fit(errors_fullfield[:,5])\n",
    "p = norm.pdf(x, mu_fullfield, std_fullfield)\n",
    "plt.plot(x, p, 'k', linewidth=2)\n",
    "print('full field mu = ',mu_fullfield,' std = ',std_fullfield)\n",
    "\n",
    "\n",
    "plt.hist(errors_worst[:,2],bins=x,label='worst',alpha=0.5,density=True,color='orange')\n",
    "mu_worst, std_worst = norm.fit(errors_worst[:,5])\n",
    "p = norm.pdf(x, mu_worst, std_worst)\n",
    "plt.plot(x, p, 'orange', linewidth=2)\n",
    "print('worst mu = ',mu_worst,' std = ',std_worst)\n",
    "\n",
    "plt.hist(errors_best[:,2],bins=x,label='best',alpha=0.5,density=True,color='green')\n",
    "mu_best, std_best = norm.fit(errors_best[:,5])\n",
    "p = norm.pdf(x, mu_best, std_best)\n",
    "plt.plot(x, p, 'green', linewidth=2)\n",
    "print('best mu = ',mu_best,' std = ',std_best)\n",
    "\n",
    "\n",
    "#plt.legend(prop={'size': 6})\n",
    "plt.xlabel('median error (cm/s)')\n",
    "plt.ylabel('probability density')\n",
    "\n",
    "plt.yticks([])\n",
    "\n",
    "# dprimes\n",
    "print('effect size (D) anti to full',(mu_worst-mu_fullfield)/np.sqrt((np.std(errors_worst[:,5], ddof=1) ** 2 + np.std(errors_fullfield[:,5], ddof=1) ** 2) / 2.0) )\n",
    "print('effect size (D) best to full',(mu_best-mu_fullfield)/np.sqrt((np.std(errors_best[:,5], ddof=1) ** 2 + np.std(errors_fullfield[:,5], ddof=1) ** 2) / 2.0) )\n",
    "\n",
    "plt.savefig(f'./final_plots/final_fig1_global_histogram_Vz_Fig2_1DOF.png', format='png',dpi=300)\n",
    "plt.savefig(f'./final_plots/final_fig1_global_histogram_Vz_Fig2_1DOF.eps', format='eps',dpi=300)"
   ]
  },
  {
   "cell_type": "code",
   "execution_count": null,
   "id": "7fdcd10c",
   "metadata": {},
   "outputs": [],
   "source": []
  },
  {
   "cell_type": "code",
   "execution_count": null,
   "id": "ee9ae514",
   "metadata": {},
   "outputs": [],
   "source": []
  },
  {
   "cell_type": "code",
   "execution_count": null,
   "id": "39a7717e",
   "metadata": {},
   "outputs": [],
   "source": []
  }
 ],
 "metadata": {
  "kernelspec": {
   "display_name": "Python 3",
   "language": "python",
   "name": "python3"
  },
  "language_info": {
   "codemirror_mode": {
    "name": "ipython",
    "version": 3
   },
   "file_extension": ".py",
   "mimetype": "text/x-python",
   "name": "python",
   "nbconvert_exporter": "python",
   "pygments_lexer": "ipython3",
   "version": "3.8.8"
  }
 },
 "nbformat": 4,
 "nbformat_minor": 5
}
