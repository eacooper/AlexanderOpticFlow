{
 "cells": [
  {
   "cell_type": "code",
   "execution_count": 1,
   "id": "0928951d",
   "metadata": {},
   "outputs": [],
   "source": [
    "import numpy as np\n",
    "from matplotlib import pyplot as plt\n",
    "from matplotlib import colors\n",
    "import scipy.optimize\n",
    "from IPython.display import clear_output\n",
    "import time\n",
    "import os"
   ]
  },
  {
   "cell_type": "code",
   "execution_count": 2,
   "id": "dd71f2b5",
   "metadata": {},
   "outputs": [],
   "source": [
    "# simulation parameters to run\n",
    "repeats       = 10000      # 10000\n",
    "batch_size    = 10000      # 10000\n",
    "\n",
    "subset_size   = 60         # 9 for 95%, 90 for 50%, 60 for 66%\n",
    "geometry      ='sphere'    # sphere/floor\n",
    "behavior_DOFs = 3          # 6, 3, or 1\n",
    "noiselevel    = 0.25       # 0.0 or 0.10 or 0.25\n",
    "spatvarnoise  = True       # if true, noise varies by elevation"
   ]
  },
  {
   "cell_type": "code",
   "execution_count": 3,
   "id": "28de19dd",
   "metadata": {},
   "outputs": [
    {
     "name": "stdout",
     "output_type": "stream",
     "text": [
      "sparsity level 0.6666666666666667\n"
     ]
    }
   ],
   "source": [
    "# make grid of azimuth (theta) and elevation (alpha) coordinates of arbitrary resolution\n",
    "res = 20\n",
    "    \n",
    "# full res\n",
    "theta_mat,alpha_mat = np.meshgrid(np.linspace(-np.pi,np.pi,int(res),endpoint=False),\n",
    "                                np.linspace(-np.pi/2,np.pi/2,int(res/2),endpoint=False))\n",
    "\n",
    "# flatten matrices\n",
    "thetas = theta_mat.flatten()\n",
    "alphas = alpha_mat.flatten()\n",
    "\n",
    "# remove points where alpha = -pi/2\n",
    "thetas = thetas[alphas > -np.pi/2]\n",
    "alphas = alphas[alphas > -np.pi/2]\n",
    "\n",
    "sparselevel = 1 - subset_size/np.size(thetas)\n",
    "\n",
    "print('sparsity level',sparselevel)"
   ]
  },
  {
   "cell_type": "code",
   "execution_count": 4,
   "id": "d29c62bb",
   "metadata": {},
   "outputs": [],
   "source": [
    "# function for determining scene depth geometry\n",
    "def nearness(geometry='sphere',theta=thetas,alpha=thetas,r=1):\n",
    "    if geometry == 'sphere':\n",
    "        mu = 1/r*np.ones_like(theta)\n",
    "    elif geometry == 'floor':\n",
    "        mu = np.abs(np.sin(alpha))/r * (alpha < 0)\n",
    "    return mu\n",
    "\n",
    "# function that generates optical flow field at a sec of azimuths/elevations for a given self-motion trajectory/geometry\n",
    "# equations slightly modified (signs and axis labels changed) from\n",
    "# eqn 2.13 and following matrices in\n",
    "# http://www.cds.caltech.edu/~murray/preprints/humbert05-phd.pdf\n",
    "def tangentialflow(Vx=0,Vy=0,Vz=0,Wx=0,Wy=0,Wz=0,geometry='sphere',theta=thetas,alpha=thetas,r=1,theta0=0,alpha0=0):\n",
    "    mu = nearness(geometry=geometry,theta=theta,alpha=alpha,r=r)\n",
    "    flow_horiz = -np.sin(alpha)*np.cos(theta)*Wz + \\\n",
    "                 np.sin(alpha)*np.sin(theta)*Wx + \\\n",
    "                 -np.cos(alpha)*Wy + \\\n",
    "                 mu*(np.sin(theta)*Vz + np.cos(theta)*Vx)\n",
    "    flow_vert = np.sin(theta)*Wz + \\\n",
    "                np.cos(theta)*Wx + \\\n",
    "                mu*(np.sin(alpha)*np.cos(theta)*Vz + \\\n",
    "                          -np.sin(alpha)*np.sin(theta)*Vx + \\\n",
    "                          np.cos(alpha)*Vy)\n",
    "    return flow_horiz, flow_vert\n"
   ]
  },
  {
   "cell_type": "code",
   "execution_count": 5,
   "id": "9700fbb4",
   "metadata": {},
   "outputs": [],
   "source": [
    "# predict velocity from flow with weighted least squares\n",
    "def getvel(flow,theta=thetas,alpha=alphas,geometry='sphere',DOFs=6,weights=0):\n",
    "    \n",
    "    # if no weights were given, assume uniform\n",
    "    if np.size(weights) == 1:\n",
    "        weights=np.ones(len(theta))\n",
    "        \n",
    "    vxtemplate = np.ndarray.flatten(np.array(tangentialflow(Vx=1,theta=theta,alpha=alpha,geometry=geometry)))\n",
    "    vytemplate = np.ndarray.flatten(np.array(tangentialflow(Vy=1,theta=theta,alpha=alpha,geometry=geometry)))\n",
    "    vztemplate = np.ndarray.flatten(np.array(tangentialflow(Vz=1,theta=theta,alpha=alpha,geometry=geometry)))\n",
    "    wxtemplate = np.ndarray.flatten(np.array(tangentialflow(Wx=1,theta=theta,alpha=alpha,geometry=geometry)))\n",
    "    wytemplate = np.ndarray.flatten(np.array(tangentialflow(Wy=1,theta=theta,alpha=alpha,geometry=geometry)))\n",
    "    wztemplate = np.ndarray.flatten(np.array(tangentialflow(Wz=1,theta=theta,alpha=alpha,geometry=geometry)))\n",
    "    \n",
    "    if DOFs == 1:\n",
    "        templates = vztemplate\n",
    "    elif DOFs == 3:\n",
    "        templates = np.stack([vxtemplate,vztemplate,wytemplate])\n",
    "    elif DOFs == 6:\n",
    "        templates = np.stack([vxtemplate,vytemplate,vztemplate,wxtemplate,wytemplate,wztemplate])\n",
    "    \n",
    "    \n",
    "    # weight template and sample\n",
    "    template = np.transpose(templates*np.tile(weights,[DOFs,2]))\n",
    "    sample = np.transpose(np.ndarray.flatten(np.array(flow))*np.tile(weights,[1,2]))\n",
    "    \n",
    "    # solve for self motion\n",
    "    pred = np.zeros([6,1])\n",
    "    pred_DOF,_,_,_ = np.linalg.lstsq(template,sample,rcond=-1)\n",
    "    \n",
    "    if DOFs == 1:\n",
    "        pred[2] = pred_DOF\n",
    "    elif DOFs == 3:\n",
    "        pred[0] = pred_DOF[0]  \n",
    "        pred[2] = pred_DOF[1]  \n",
    "        pred[4] = pred_DOF[2]  \n",
    "    elif DOFs == 6:\n",
    "        pred = pred_DOF\n",
    "    return np.squeeze(pred)\n",
    "\n",
    "\n",
    "def anglediff(a,b,deg=True):\n",
    "    if deg:\n",
    "        return np.arctan2(np.sin((a-b)*np.pi/180),np.cos((a-b)*np.pi/180))*180/np.pi\n",
    "    else:\n",
    "        return np.arctan2(np.sin(a-b),np.cos(a-b))\n"
   ]
  },
  {
   "cell_type": "code",
   "execution_count": 6,
   "id": "a2bf7fbf",
   "metadata": {},
   "outputs": [],
   "source": [
    "# for a given set of indices (x), runs a batch of self motion trajectories and calculates the errors\n",
    "# x is a set of indices to use to subset theta/alpha\n",
    "def error_calc(x,trials=10,noiselevel=0.25,geometry='sphere',theta=thetas,alpha=alphas,DOFs=6,plotit=False,spatvarnoise=False,weights=0):\n",
    "\n",
    "    preds = np.nan*np.ones([trials,6])\n",
    "    gt = np.nan*np.ones([trials,6])\n",
    "    \n",
    "    # subset\n",
    "    this_subset_thetas = thetas[x]\n",
    "    this_subset_alphas = alphas[x]\n",
    "\n",
    "    for i in range(trials): \n",
    "        \n",
    "        # generate random behavior (uniform from -1 to 1)\n",
    "        Vx,Vy,Vz,Wx,Wy,Wz = 2*np.random.rand(6) - 1\n",
    "        \n",
    "        # zero out irrelevant DOFs\n",
    "        if DOFs == 3:\n",
    "            Vy = Wx = Wz = 0\n",
    "        elif DOFs == 1:\n",
    "            Vx = Vy = Wx = Wy = Wz = 0\n",
    "            \n",
    "        flow = tangentialflow(geometry=geometry,theta=this_subset_thetas,alpha=this_subset_alphas,Vx=Vx,Vy=Vy,Vz=Vz,Wx=Wx,Wy=Wy,Wz=Wz)\n",
    "        _,h = np.shape(flow)\n",
    "        noise = noiselevel*np.random.randn(2*h)\n",
    "        \n",
    "        noise = np.reshape(noise,[2,h])\n",
    "        if spatvarnoise:\n",
    "            noise = noise*((np.tile(-this_subset_alphas,[2,1])+np.pi/2)/(np.pi))\n",
    "        flow = flow + noise\n",
    "        \n",
    "        if plotit == True:\n",
    "            plt.quiver(this_subset_thetas,this_subset_alphas,flow[0],flow[1],scale=10,color='r')\n",
    "                \n",
    "            plt.xlim(-np.pi,np.pi)\n",
    "            plt.ylim(-np.pi/2 - 0.25,np.pi/2 + 0.25)\n",
    "    \n",
    "            plt.savefig(f'./plots/example_global_flow_{i}.eps', format='eps')\n",
    "        \n",
    "        # get error\n",
    "        gt[i,:] = [Vx,Vy,Vz,Wx,Wy,Wz]\n",
    "        preds[i,:] = getvel(flow,geometry=geometry,theta=this_subset_thetas,alpha=this_subset_alphas,DOFs=DOFs,weights=weights)\n",
    "    \n",
    "    # return average error (in meters or radians)\n",
    "    errs = np.median(np.abs(preds-gt),0)\n",
    "    err_Vz = errs[2]\n",
    "    \n",
    "    # heading error (in radians)\n",
    "    headinggt = np.arctan2(gt[...,0],gt[...,2])\n",
    "    headingpred = np.arctan2(preds[...,0],preds[...,2])\n",
    "    headingerr = np.median(np.abs(anglediff(headingpred,headinggt,deg=False)))\n",
    "    \n",
    "    errs = np.append(errs,headingerr)\n",
    "    \n",
    "    #return err_Vz\n",
    "    return errs"
   ]
  },
  {
   "cell_type": "code",
   "execution_count": 7,
   "id": "e2e37d43",
   "metadata": {},
   "outputs": [
    {
     "data": {
      "text/plain": [
       "array([0.00283572, 0.00328232, 0.00349576, 0.00284905, 0.00311564,\n",
       "       0.00339637, 0.00447532])"
      ]
     },
     "execution_count": 7,
     "metadata": {},
     "output_type": "execute_result"
    }
   ],
   "source": [
    "# check that error calculation runs\n",
    "this_subset_inds = np.random.randint(0, high=int(np.size(thetas)), size=int(subset_size))\n",
    "error_calc(this_subset_inds,trials=1000,noiselevel=0.05,geometry='sphere',theta=thetas,alpha=alphas,DOFs=6,spatvarnoise=spatvarnoise)"
   ]
  },
  {
   "cell_type": "code",
   "execution_count": 8,
   "id": "f0920cef",
   "metadata": {},
   "outputs": [],
   "source": [
    "# check for existing files to determine number of repeats left to run\n",
    "\n",
    "if spatvarnoise == False:\n",
    "    file_starter = f'global_{subset_size}nsamples_{noiselevel}noise_{geometry}_{behavior_DOFs}DOFs_{batch_size}batchsize'\n",
    "elif spatvarnoise == True:\n",
    "    file_starter = f'global_{subset_size}nsamples_{noiselevel}noise_spatiallyvaryingnoise_{geometry}_{behavior_DOFs}DOFs_{batch_size}batchsize'\n",
    "    \n",
    "repeats_left = repeats\n",
    "for file in os.listdir('./global_simulation_files'):\n",
    "    if file.startswith(file_starter):\n",
    "        print(file)\n",
    "        data = np.load('./global_simulation_files/'+file)\n",
    "        repeats_left = repeats_left - data['repeats']\n",
    "        print(\"Num repeats already done = \",data['repeats'])\n",
    "        print(\"Num repeats remaining = \",repeats_left)"
   ]
  },
  {
   "cell_type": "code",
   "execution_count": 9,
   "id": "c4cada5d",
   "metadata": {},
   "outputs": [
    {
     "data": {
      "image/png": "[encoded data removed]",
      "text/plain": [
       "<Figure size 1080x360 with 2 Axes>"
      ]
     },
     "metadata": {
      "needs_background": "light"
     },
     "output_type": "display_data"
    }
   ],
   "source": [
    "# run sim a bunch of times\n",
    "\n",
    "# initialize results        \n",
    "all_subset_inds = np.ones([repeats_left,subset_size],dtype = np.int16)\n",
    "all_err_Vz      = np.zeros(repeats_left)\n",
    "all_err         = np.zeros([repeats_left,7])\n",
    "running_sum     = np.zeros_like(thetas)\n",
    "running_count   = np.zeros_like(thetas)\n",
    "\n",
    "timestr = time.strftime(\"%Y%m%d-%H%M%S\")\n",
    "\n",
    "for i in range(repeats_left):\n",
    "    \n",
    "    this_subset_inds = np.random.randint(0, high=int(np.size(thetas)), size=int(subset_size))\n",
    "    all_subset_inds[i,:] = this_subset_inds\n",
    "    \n",
    "    errs = error_calc(this_subset_inds,trials=batch_size,noiselevel=noiselevel,geometry=geometry,theta=thetas,alpha=alphas,DOFs=behavior_DOFs,spatvarnoise=spatvarnoise)\n",
    "    err_Vz = errs[2]\n",
    "    all_err[i,:] = errs\n",
    "    all_err_Vz[i] = err_Vz\n",
    "\n",
    "    running_sum[this_subset_inds] = running_sum[this_subset_inds] + err_Vz\n",
    "    running_count[this_subset_inds] = running_count[this_subset_inds] + 1\n",
    "    \n",
    "    # visualize intermediate results\n",
    "    if np.mod(i+1,100) == 0 or i+1 == repeats_left:\n",
    "        \n",
    "        # calculate weighted average\n",
    "        weighted_average = running_sum/running_count\n",
    "        \n",
    "        clear_output(wait=True)\n",
    "        \n",
    "        # plot weighted average\n",
    "        plt.figure(figsize=(15,5))\n",
    "        plt.title(f'Current progress:{np.round(100*(i+1)/(repeats_left),2)}')\n",
    "        heatmap = np.reshape(weighted_average,[9,20])\n",
    "        plt.imshow(heatmap,cmap='Reds',extent=[-np.pi,np.pi,-np.pi/2,np.pi/2],norm=colors.LogNorm(),aspect=1)\n",
    "        # to set color limit use e.g. norm=colors.LogNorm((vmin=1,vmax=5)) in line above\n",
    "        plt.colorbar()\n",
    "\n",
    "        plt.show()\n",
    "        \n",
    "        if spatvarnoise == False:\n",
    "            np.savez(f'./global_simulation_files/global_{sparselevel*100:.0f}pctsparse_{noiselevel}noise_{geometry}_{behavior_DOFs}DOFs_{batch_size}batchsize_{repeats_left}repeats_{timestr}',repeats=i+1,batch_size=batch_size,subset_size=subset_size,thetas=thetas,alphas=alphas,all_subset_inds=all_subset_inds,all_err=all_err,all_err_Vz=all_err_Vz,running_sum=running_sum,running_count=running_count,weighted_average=weighted_average)\n",
    "        elif spatvarnoise == True:\n",
    "            np.savez(f'./global_simulation_files/global_{sparselevel*100:.0f}pctsparse_{noiselevel}noise_spatiallyvaryingnoise_{geometry}_{behavior_DOFs}DOFs_{batch_size}batchsize_{repeats_left}repeats_{timestr}',repeats=i+1,batch_size=batch_size,subset_size=subset_size,thetas=thetas,alphas=alphas,all_subset_inds=all_subset_inds,all_err=all_err,all_err_Vz=all_err_Vz,running_sum=running_sum,running_count=running_count,weighted_average=weighted_average)\n"
   ]
  },
  {
   "cell_type": "code",
   "execution_count": null,
   "id": "1d36d6fb",
   "metadata": {},
   "outputs": [],
   "source": []
  }
 ],
 "metadata": {
  "kernelspec": {
   "display_name": "Python 3 (ipykernel)",
   "language": "python",
   "name": "python3"
  },
  "language_info": {
   "codemirror_mode": {
    "name": "ipython",
    "version": 3
   },
   "file_extension": ".py",
   "mimetype": "text/x-python",
   "name": "python",
   "nbconvert_exporter": "python",
   "pygments_lexer": "ipython3",
   "version": "3.9.12"
  }
 },
 "nbformat": 4,
 "nbformat_minor": 5
}
