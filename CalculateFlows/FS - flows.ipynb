{
 "cells": [
  {
   "cell_type": "code",
   "execution_count": 1,
   "id": "e6c0f307",
   "metadata": {},
   "outputs": [],
   "source": [
    "import numpy as np\n",
    "from matplotlib import pyplot as plt\n",
    "import os\n",
    "from scipy.signal import sepfir2d"
   ]
  },
  {
   "cell_type": "code",
   "execution_count": 2,
   "id": "41255546",
   "metadata": {},
   "outputs": [],
   "source": [
    "imsdir = '../publicdataset/images/'\n",
    "derivsdir = './FSderivs'\n",
    "flowsdir = '../publicdataset/flows/FS/'\n",
    "os.makedirs(flowsdir,exist_ok=True)"
   ]
  },
  {
   "cell_type": "code",
   "execution_count": 3,
   "id": "610f7854",
   "metadata": {},
   "outputs": [],
   "source": [
    "# calculate flow, gradient, and condition number at each pixel from derivatives\n",
    "\n",
    "def FSflow(Ix,Iy,It,taps=3):\n",
    "    \n",
    "    # spatial averaging\n",
    "    if taps in [1,3,5]:\n",
    "        if taps == 1:\n",
    "            h = [0,1,0]\n",
    "        if taps == 3:\n",
    "            h = [1/4,2/4,1/4]\n",
    "        if taps == 5:\n",
    "            h = [1/16,4/16,6/16,4/16,1/16]\n",
    "    fx2 = sepfir2d( Ix*Ix, h, h )\n",
    "    fy2 = sepfir2d( Iy*Iy, h, h )\n",
    "    fxy = sepfir2d( Ix*Iy, h, h )\n",
    "    fxt = sepfir2d( Ix*It, h, h )\n",
    "    fyt = sepfir2d( Iy*It, h, h )\n",
    "\n",
    "\n",
    "    # compute deriv stats and motion \n",
    "    cond = np.nan*np.ones_like(Ix)\n",
    "    grad = np.nan*np.ones_like(Ix)\n",
    "    xflow = np.nan*np.ones_like(Ix)\n",
    "    yflow = np.nan*np.ones_like(Ix)\n",
    "    \n",
    "    for x in range(np.shape(Ix)[1]):\n",
    "        for y in range(np.shape(Ix)[0]):\n",
    "            # build linear system\n",
    "            M = [[fx2[y,x], fxy[y,x]], [fxy[y,x], fy2[y,x]]]\n",
    "            b = [[fxt[y,x]], [fyt[y,x]]]\n",
    "            \n",
    "            cond[y,x] = np.linalg.cond(M)\n",
    "            grad[y,x] = np.sqrt(Ix[y,x]*Ix[y,x]+Iy[y,x]*Iy[y,x])\n",
    "            \n",
    "            # well-conditioned matrix and large gradient\n",
    "            #if( np.linalg.cond(M)<1e2 and (np.sqrt(Ix[y,x]*Ix[y,x]+Iy[y,x]*Iy[y,x])>2) ): \n",
    "            try:\n",
    "                v = -np.linalg.inv(M)@b # least-squares solution\n",
    "                xflow[y,x] = v[0]\n",
    "                yflow[y,x] = v[1]\n",
    "            except:\n",
    "                continue\n",
    "            \n",
    "    return xflow,yflow,grad,cond"
   ]
  },
  {
   "cell_type": "code",
   "execution_count": 6,
   "id": "2778f4af",
   "metadata": {},
   "outputs": [
    {
     "data": {
      "text/plain": [
       "array([ 7, 13, 20, 27, 33,  7, 13, 20, 27, 33,  7, 13, 20, 27, 33,  7, 13,\n",
       "       20, 27, 33,  7, 13, 20, 27, 33], dtype=uint8)"
      ]
     },
     "execution_count": 6,
     "metadata": {},
     "output_type": "execute_result"
    },
    {
     "data": {
      "image/png": "[encoded data removed]",
      "text/plain": [
       "<Figure size 432x288 with 1 Axes>"
      ]
     },
     "metadata": {
      "needs_background": "light"
     },
     "output_type": "display_data"
    }
   ],
   "source": [
    "# spatial sampling of RFs\n",
    "\n",
    "outres = 5\n",
    "RFxs,RFys = np.meshgrid(np.linspace(0,40,outres+2),np.linspace(0,40,outres+2))\n",
    "RFxs=np.rint(np.ndarray.flatten(RFxs[1:-1,1:-1])).astype('uint8')\n",
    "RFys=np.rint(np.ndarray.flatten(RFys[1:-1,1:-1])).astype('uint8')\n",
    "\n",
    "plt.imshow(np.ones([40,40]))\n",
    "plt.scatter(RFxs,RFys,c='w')\n",
    "plt.title('RF locations');\n",
    "RFxs"
   ]
  },
  {
   "cell_type": "code",
   "execution_count": 5,
   "id": "5a70ddd2",
   "metadata": {},
   "outputs": [],
   "source": [
    "# pull up filenames to check for key frames\n",
    "\n",
    "def listpngnums(vid):\n",
    "    rawpngs = os.listdir(vid)\n",
    "    pngnums = sorted([int(png[:-4]) for png in rawpngs])\n",
    "    return pngnums"
   ]
  },
  {
   "cell_type": "code",
   "execution_count": 6,
   "id": "60c2a9d4",
   "metadata": {},
   "outputs": [],
   "source": [
    "# process video: load derivatives, check for key frames, and calculate flows\n",
    "\n",
    "cams = 2\n",
    "elevs = 11\n",
    "frames = 391\n",
    "derivtaps = 9\n",
    "flowtaps = 3\n",
    "fps = 100\n",
    "\n",
    "def flowsfromderivs(speed,date,RFxs=RFxs,RFys=RFys,taps=flowtaps):\n",
    "    \n",
    "    data = np.load(f'{derivsdir}/{speed}/{date}.npz')\n",
    "    Ix = data['Ix'] # spatial derivatives are in lum/pix = lum/deg\n",
    "    Iy = data['Iy'] # spatial derivatives are in lum/pix = lum/deg\n",
    "    It = data['It']*fps # temporal derivatives are in lum/frame, convert to lum/sec\n",
    "    \n",
    "    xflow = np.nan*np.ones([cams,elevs,frames,len(RFxs)])\n",
    "    yflow = np.nan*np.ones_like(xflow)\n",
    "    grad = np.nan*np.ones_like(xflow)\n",
    "    cond = np.nan*np.ones_like(xflow)\n",
    "    \n",
    "    pngnums = np.array(listpngnums(f'{imsdir}{speed}/{date}'))\n",
    "    \n",
    "    for cam in range(cams):\n",
    "        for elev in range(elevs):\n",
    "            print(elev,end=' ')\n",
    "            for frame in range(frames):\n",
    "                \n",
    "                # check for key frame\n",
    "                if np.any(pngnums[frame:frame+derivtaps]%96 == 0):\n",
    "                    continue\n",
    "                \n",
    "                xflw,yflw,grd,cnd = FSflow(Ix[cam,elev,frame],Iy[cam,elev,frame],It[cam,elev,frame],taps=taps)\n",
    "                                                \n",
    "                # only save at RF locations\n",
    "                xflow[cam,elev,frame] = xflw[RFys,RFxs]\n",
    "                yflow[cam,elev,frame] = yflw[RFys,RFxs]\n",
    "                grad[cam,elev,frame] = grd[RFys,RFxs]\n",
    "                cond[cam,elev,frame] = cnd[RFys,RFxs]\n",
    "                \n",
    "        np.savez(f'{flowsdir}{speed}/{speed}_{date}',xflow=xflow,yflow=yflow,grad=grad,cond=cond)"
   ]
  },
  {
   "cell_type": "code",
   "execution_count": 7,
   "id": "5837127e",
   "metadata": {},
   "outputs": [
    {
     "name": "stdout",
     "output_type": "stream",
     "text": [
      "\n",
      "Wy_50\n",
      "\n",
      "\tOct12: 0 1 2 3 4 5 6 7 8 9 10 0 1 2 3 4 5 6 7 8 9 10 \n",
      "\tOct13: 0 1 2 3 4 5 6 7 8 9 10 0 1 2 3 4 5 6 7 8 9 10 \n",
      "\tOct14: 0 "
     ]
    },
    {
     "name": "stderr",
     "output_type": "stream",
     "text": [
      "<ipython-input-3-7fa661fa5633>:38: RuntimeWarning: invalid value encountered in matmul\n",
      "  v = -np.linalg.inv(M)@b # least-squares solution\n"
     ]
    },
    {
     "name": "stdout",
     "output_type": "stream",
     "text": [
      "1 2 3 4 5 6 7 8 9 10 0 1 2 3 4 5 6 7 8 9 10 \n",
      "\tOct15: 0 1 2 3 4 5 6 7 8 9 10 0 1 2 3 4 5 6 7 8 9 10 \n",
      "\tOct16: 0 1 2 3 4 5 6 7 8 9 10 0 1 2 3 4 5 6 7 8 9 10 \n",
      "\tOct17: 0 1 2 3 4 5 6 7 8 9 10 0 1 2 3 4 5 6 7 8 9 10 \n",
      "\tOct19: 0 1 2 3 4 5 6 7 8 9 10 0 1 2 3 4 5 6 7 8 9 10 \n",
      "Wy_20\n",
      "\n",
      "\tOct12: 0 1 2 3 4 5 6 7 8 9 10 0 1 2 3 4 5 6 7 8 9 10 \n",
      "\tOct13: 0 1 2 3 4 5 6 7 8 9 10 0 1 2 3 4 5 6 7 8 9 10 \n",
      "\tOct14: 0 1 2 3 4 5 6 7 8 9 10 0 1 2 3 4 5 6 7 8 9 10 \n",
      "\tOct15: 0 1 2 3 4 5 6 7 8 9 10 0 1 2 3 4 5 6 7 8 9 10 \n",
      "\tOct16: 0 1 2 3 4 5 6 7 8 9 10 0 1 2 3 4 5 6 7 8 9 10 \n",
      "\tOct17: 0 1 2 3 4 5 6 7 8 9 10 0 1 2 3 4 5 6 7 8 9 10 \n",
      "\tOct19: 0 1 2 3 4 5 6 7 8 9 10 0 1 2 3 4 5 6 7 8 9 10 "
     ]
    }
   ],
   "source": [
    "speeds = ['Wy_50','Wy_20']\n",
    "dates = [f'Oct1{i}' for i in range(2,10) if i!=8]\n",
    "\n",
    "for speed in speeds:\n",
    "    print('\\n'+speed)\n",
    "    for date in dates:\n",
    "        print(f'\\n\\t{date}: ',end='')\n",
    "        flowsfromderivs(speed,date)"
   ]
  }
 ],
 "metadata": {
  "kernelspec": {
   "display_name": "Python 3",
   "language": "python",
   "name": "python3"
  },
  "language_info": {
   "codemirror_mode": {
    "name": "ipython",
    "version": 3
   },
   "file_extension": ".py",
   "mimetype": "text/x-python",
   "name": "python",
   "nbconvert_exporter": "python",
   "pygments_lexer": "ipython3",
   "version": "3.8.8"
  }
 },
 "nbformat": 4,
 "nbformat_minor": 5
}
